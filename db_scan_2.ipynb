{
 "cells": [
  {
   "cell_type": "code",
   "execution_count": 115,
   "id": "e94778d4",
   "metadata": {},
   "outputs": [
    {
     "name": "stdout",
     "output_type": "stream",
     "text": [
      "Using matplotlib backend: Qt5Agg\n",
      "Populating the interactive namespace from numpy and matplotlib\n"
     ]
    }
   ],
   "source": [
    " %pylab\n",
    "import pandas as pd, numpy as np, matplotlib.pyplot as plt\n",
    "from sklearn.cluster import DBSCAN\n",
    "from geopy.distance import great_circle\n",
    "from shapely.geometry import MultiPoint\n",
    "from sklearn import metrics\n",
    "from sklearn.metrics import silhouette_score"
   ]
  },
  {
   "cell_type": "code",
   "execution_count": 2,
   "id": "54701363",
   "metadata": {},
   "outputs": [],
   "source": [
    "\n",
    "from sklearn.decomposition import PCA  "
   ]
  },
  {
   "cell_type": "code",
   "execution_count": 3,
   "id": "beb1fccb",
   "metadata": {},
   "outputs": [
    {
     "data": {
      "text/html": [
       "<div>\n",
       "<style scoped>\n",
       "    .dataframe tbody tr th:only-of-type {\n",
       "        vertical-align: middle;\n",
       "    }\n",
       "\n",
       "    .dataframe tbody tr th {\n",
       "        vertical-align: top;\n",
       "    }\n",
       "\n",
       "    .dataframe thead th {\n",
       "        text-align: right;\n",
       "    }\n",
       "</style>\n",
       "<table border=\"1\" class=\"dataframe\">\n",
       "  <thead>\n",
       "    <tr style=\"text-align: right;\">\n",
       "      <th></th>\n",
       "      <th>Unnamed: 0</th>\n",
       "      <th>latitude</th>\n",
       "      <th>longitude</th>\n",
       "    </tr>\n",
       "  </thead>\n",
       "  <tbody>\n",
       "    <tr>\n",
       "      <th>0</th>\n",
       "      <td>0</td>\n",
       "      <td>10.913417</td>\n",
       "      <td>75.919083</td>\n",
       "    </tr>\n",
       "    <tr>\n",
       "      <th>1</th>\n",
       "      <td>1</td>\n",
       "      <td>10.916287</td>\n",
       "      <td>75.918402</td>\n",
       "    </tr>\n",
       "    <tr>\n",
       "      <th>2</th>\n",
       "      <td>2</td>\n",
       "      <td>10.917793</td>\n",
       "      <td>75.918148</td>\n",
       "    </tr>\n",
       "    <tr>\n",
       "      <th>3</th>\n",
       "      <td>3</td>\n",
       "      <td>10.920293</td>\n",
       "      <td>75.916692</td>\n",
       "    </tr>\n",
       "    <tr>\n",
       "      <th>4</th>\n",
       "      <td>4</td>\n",
       "      <td>10.920803</td>\n",
       "      <td>75.916032</td>\n",
       "    </tr>\n",
       "    <tr>\n",
       "      <th>...</th>\n",
       "      <td>...</td>\n",
       "      <td>...</td>\n",
       "      <td>...</td>\n",
       "    </tr>\n",
       "    <tr>\n",
       "      <th>102</th>\n",
       "      <td>102</td>\n",
       "      <td>11.230440</td>\n",
       "      <td>75.790052</td>\n",
       "    </tr>\n",
       "    <tr>\n",
       "      <th>103</th>\n",
       "      <td>103</td>\n",
       "      <td>11.232788</td>\n",
       "      <td>75.789367</td>\n",
       "    </tr>\n",
       "    <tr>\n",
       "      <th>104</th>\n",
       "      <td>104</td>\n",
       "      <td>11.234640</td>\n",
       "      <td>75.789085</td>\n",
       "    </tr>\n",
       "    <tr>\n",
       "      <th>105</th>\n",
       "      <td>105</td>\n",
       "      <td>11.263832</td>\n",
       "      <td>75.777360</td>\n",
       "    </tr>\n",
       "    <tr>\n",
       "      <th>106</th>\n",
       "      <td>106</td>\n",
       "      <td>11.281508</td>\n",
       "      <td>75.772237</td>\n",
       "    </tr>\n",
       "  </tbody>\n",
       "</table>\n",
       "<p>107 rows × 3 columns</p>\n",
       "</div>"
      ],
      "text/plain": [
       "     Unnamed: 0   latitude  longitude\n",
       "0             0  10.913417  75.919083\n",
       "1             1  10.916287  75.918402\n",
       "2             2  10.917793  75.918148\n",
       "3             3  10.920293  75.916692\n",
       "4             4  10.920803  75.916032\n",
       "..          ...        ...        ...\n",
       "102         102  11.230440  75.790052\n",
       "103         103  11.232788  75.789367\n",
       "104         104  11.234640  75.789085\n",
       "105         105  11.263832  75.777360\n",
       "106         106  11.281508  75.772237\n",
       "\n",
       "[107 rows x 3 columns]"
      ]
     },
     "metadata": {},
     "output_type": "display_data"
    },
    {
     "data": {
      "text/html": [
       "<div>\n",
       "<style scoped>\n",
       "    .dataframe tbody tr th:only-of-type {\n",
       "        vertical-align: middle;\n",
       "    }\n",
       "\n",
       "    .dataframe tbody tr th {\n",
       "        vertical-align: top;\n",
       "    }\n",
       "\n",
       "    .dataframe thead th {\n",
       "        text-align: right;\n",
       "    }\n",
       "</style>\n",
       "<table border=\"1\" class=\"dataframe\">\n",
       "  <thead>\n",
       "    <tr style=\"text-align: right;\">\n",
       "      <th></th>\n",
       "      <th>latitude</th>\n",
       "      <th>longitude</th>\n",
       "    </tr>\n",
       "  </thead>\n",
       "  <tbody>\n",
       "    <tr>\n",
       "      <th>0</th>\n",
       "      <td>10.913417</td>\n",
       "      <td>75.919083</td>\n",
       "    </tr>\n",
       "    <tr>\n",
       "      <th>1</th>\n",
       "      <td>10.916287</td>\n",
       "      <td>75.918402</td>\n",
       "    </tr>\n",
       "    <tr>\n",
       "      <th>2</th>\n",
       "      <td>10.917793</td>\n",
       "      <td>75.918148</td>\n",
       "    </tr>\n",
       "    <tr>\n",
       "      <th>3</th>\n",
       "      <td>10.920293</td>\n",
       "      <td>75.916692</td>\n",
       "    </tr>\n",
       "    <tr>\n",
       "      <th>4</th>\n",
       "      <td>10.920803</td>\n",
       "      <td>75.916032</td>\n",
       "    </tr>\n",
       "    <tr>\n",
       "      <th>...</th>\n",
       "      <td>...</td>\n",
       "      <td>...</td>\n",
       "    </tr>\n",
       "    <tr>\n",
       "      <th>102</th>\n",
       "      <td>11.230440</td>\n",
       "      <td>75.790052</td>\n",
       "    </tr>\n",
       "    <tr>\n",
       "      <th>103</th>\n",
       "      <td>11.232788</td>\n",
       "      <td>75.789367</td>\n",
       "    </tr>\n",
       "    <tr>\n",
       "      <th>104</th>\n",
       "      <td>11.234640</td>\n",
       "      <td>75.789085</td>\n",
       "    </tr>\n",
       "    <tr>\n",
       "      <th>105</th>\n",
       "      <td>11.263832</td>\n",
       "      <td>75.777360</td>\n",
       "    </tr>\n",
       "    <tr>\n",
       "      <th>106</th>\n",
       "      <td>11.281508</td>\n",
       "      <td>75.772237</td>\n",
       "    </tr>\n",
       "  </tbody>\n",
       "</table>\n",
       "<p>107 rows × 2 columns</p>\n",
       "</div>"
      ],
      "text/plain": [
       "      latitude  longitude\n",
       "0    10.913417  75.919083\n",
       "1    10.916287  75.918402\n",
       "2    10.917793  75.918148\n",
       "3    10.920293  75.916692\n",
       "4    10.920803  75.916032\n",
       "..         ...        ...\n",
       "102  11.230440  75.790052\n",
       "103  11.232788  75.789367\n",
       "104  11.234640  75.789085\n",
       "105  11.263832  75.777360\n",
       "106  11.281508  75.772237\n",
       "\n",
       "[107 rows x 2 columns]"
      ]
     },
     "execution_count": 3,
     "metadata": {},
     "output_type": "execute_result"
    }
   ],
   "source": [
    "df = pd.read_csv(\"C:\\\\Users\\\\knaren1x\\\\OneDrive - Intel Corporation\\\\Documents\\\\Dvr\\\\dataset\\\\KA51ME7196\\\\Trip_13-9thsept-08_30-10_00\\\\1latnlng.csv\")\n",
    "display(df)\n",
    "\n",
    "df[['latitude','longitude']]\n",
    "#display(df)\n",
    "#dd =pd.read_csv(\"C:\\\\Users\\\\knaren1x\\\\OneDrive - Intel Corporation\\\\Documents\\\\Dvr\\\\dataset\\\\KA51ME7196\\\\Trip_13-9thsept-08_30-10_00\\\\sample.csv\")\n",
    "#coords1 = dd.as_matrix(columns=['latitude', 'longitude'])\n",
    "#display(dd)\n",
    "\n",
    "\n",
    "#coords = df.to_numpy()(columns=['latitude', 'longitude'])"
   ]
  },
  {
   "cell_type": "code",
   "execution_count": 4,
   "id": "e3d36c2f",
   "metadata": {},
   "outputs": [
    {
     "data": {
      "text/html": [
       "<div>\n",
       "<style scoped>\n",
       "    .dataframe tbody tr th:only-of-type {\n",
       "        vertical-align: middle;\n",
       "    }\n",
       "\n",
       "    .dataframe tbody tr th {\n",
       "        vertical-align: top;\n",
       "    }\n",
       "\n",
       "    .dataframe thead th {\n",
       "        text-align: right;\n",
       "    }\n",
       "</style>\n",
       "<table border=\"1\" class=\"dataframe\">\n",
       "  <thead>\n",
       "    <tr style=\"text-align: right;\">\n",
       "      <th></th>\n",
       "      <th>latitude</th>\n",
       "      <th>longitude</th>\n",
       "    </tr>\n",
       "  </thead>\n",
       "  <tbody>\n",
       "    <tr>\n",
       "      <th>0</th>\n",
       "      <td>10.913417</td>\n",
       "      <td>75.919083</td>\n",
       "    </tr>\n",
       "    <tr>\n",
       "      <th>1</th>\n",
       "      <td>10.916287</td>\n",
       "      <td>75.918402</td>\n",
       "    </tr>\n",
       "    <tr>\n",
       "      <th>2</th>\n",
       "      <td>10.917793</td>\n",
       "      <td>75.918148</td>\n",
       "    </tr>\n",
       "    <tr>\n",
       "      <th>3</th>\n",
       "      <td>10.920293</td>\n",
       "      <td>75.916692</td>\n",
       "    </tr>\n",
       "    <tr>\n",
       "      <th>4</th>\n",
       "      <td>10.920803</td>\n",
       "      <td>75.916032</td>\n",
       "    </tr>\n",
       "    <tr>\n",
       "      <th>...</th>\n",
       "      <td>...</td>\n",
       "      <td>...</td>\n",
       "    </tr>\n",
       "    <tr>\n",
       "      <th>102</th>\n",
       "      <td>11.230440</td>\n",
       "      <td>75.790052</td>\n",
       "    </tr>\n",
       "    <tr>\n",
       "      <th>103</th>\n",
       "      <td>11.232788</td>\n",
       "      <td>75.789367</td>\n",
       "    </tr>\n",
       "    <tr>\n",
       "      <th>104</th>\n",
       "      <td>11.234640</td>\n",
       "      <td>75.789085</td>\n",
       "    </tr>\n",
       "    <tr>\n",
       "      <th>105</th>\n",
       "      <td>11.263832</td>\n",
       "      <td>75.777360</td>\n",
       "    </tr>\n",
       "    <tr>\n",
       "      <th>106</th>\n",
       "      <td>11.281508</td>\n",
       "      <td>75.772237</td>\n",
       "    </tr>\n",
       "  </tbody>\n",
       "</table>\n",
       "<p>107 rows × 2 columns</p>\n",
       "</div>"
      ],
      "text/plain": [
       "      latitude  longitude\n",
       "0    10.913417  75.919083\n",
       "1    10.916287  75.918402\n",
       "2    10.917793  75.918148\n",
       "3    10.920293  75.916692\n",
       "4    10.920803  75.916032\n",
       "..         ...        ...\n",
       "102  11.230440  75.790052\n",
       "103  11.232788  75.789367\n",
       "104  11.234640  75.789085\n",
       "105  11.263832  75.777360\n",
       "106  11.281508  75.772237\n",
       "\n",
       "[107 rows x 2 columns]"
      ]
     },
     "metadata": {},
     "output_type": "display_data"
    }
   ],
   "source": [
    "coords= df[['latitude','longitude']].copy()\n",
    "display(coords)\n"
   ]
  },
  {
   "cell_type": "code",
   "execution_count": 5,
   "id": "de5e4cf3",
   "metadata": {},
   "outputs": [],
   "source": [
    "#kms_per_radian = 6371.0088\n",
    "#epsilon = 1 / kms_per_radian\n",
    "#db = DBSCAN(eps=epsilon, min_samples=1, algorithm='ball_tree', metric='haversine').fit(np.radians(coords))\n",
    "\n"
   ]
  },
  {
   "cell_type": "code",
   "execution_count": 112,
   "id": "934f43de",
   "metadata": {},
   "outputs": [],
   "source": [
    "mts_per_radian = 6371.0088*1000\n",
    "#epsilon = 1 / kms_per_radian\n",
    "epsilon = 1800 / mts_per_radian # distance in mts, range for clustering lat-lng range\n",
    "db = DBSCAN(eps=epsilon, min_samples=1, algorithm='ball_tree', metric='haversine').fit(np.radians(coords))"
   ]
  },
  {
   "cell_type": "code",
   "execution_count": null,
   "id": "fb58b0e2",
   "metadata": {},
   "outputs": [],
   "source": [
    "cluster_labels = db.labels_"
   ]
  },
  {
   "cell_type": "code",
   "execution_count": 116,
   "id": "5c54b807",
   "metadata": {},
   "outputs": [
    {
     "data": {
      "text/plain": [
       "0.31080323828564493"
      ]
     },
     "execution_count": 116,
     "metadata": {},
     "output_type": "execute_result"
    }
   ],
   "source": [
    "silhouette_score(coords,cluster_labels)"
   ]
  },
  {
   "cell_type": "code",
   "execution_count": 113,
   "id": "3ff74c18",
   "metadata": {},
   "outputs": [
    {
     "data": {
      "text/plain": [
       "array([0, 0, 0, 0, 0, 0, 0, 0, 0, 0, 0, 0, 0, 0, 0, 0, 0, 0, 0, 0, 0, 0,\n",
       "       0, 0, 0, 0, 0, 0, 0, 0, 0, 0, 0, 0, 0, 0, 0, 0, 0, 0, 0, 0, 0, 0,\n",
       "       0, 0, 0, 0, 0, 0, 0, 0, 0, 0, 0, 0, 0, 0, 0, 0, 0, 0, 0, 0, 0, 0,\n",
       "       0, 0, 0, 0, 0, 1, 1, 1, 1, 1, 1, 2, 0, 3, 3, 3, 3, 3, 3, 3, 3, 3,\n",
       "       3, 3, 3, 3, 3, 3, 3, 3, 3, 3, 3, 3, 3, 3, 3, 3, 3, 4, 5],\n",
       "      dtype=int64)"
      ]
     },
     "metadata": {},
     "output_type": "display_data"
    },
    {
     "name": "stdout",
     "output_type": "stream",
     "text": [
      "6\n"
     ]
    }
   ],
   "source": [
    "\n",
    "display(cluster_labels)\n",
    "num_clusters = len(set(cluster_labels))\n",
    "print(num_clusters)\n",
    "clusters = pd.Series([coords[cluster_labels == n] for n in range(num_clusters)])\n",
    "\n",
    "    \n",
    "#display(clusters)\n"
   ]
  },
  {
   "cell_type": "code",
   "execution_count": 114,
   "id": "9f7872a7",
   "metadata": {},
   "outputs": [
    {
     "data": {
      "text/plain": [
       "0.31080323828564493"
      ]
     },
     "execution_count": 114,
     "metadata": {},
     "output_type": "execute_result"
    }
   ],
   "source": [
    "\n",
    "silhouette_score(coords,cluster_labels)"
   ]
  },
  {
   "cell_type": "code",
   "execution_count": 77,
   "id": "ae874ce0",
   "metadata": {},
   "outputs": [],
   "source": [
    "core_samples = np.zeros_like(cluster_labels, dtype=bool)\n",
    "core_samples[db.core_sample_indices_] = True\n",
    "#print(core_samples)"
   ]
  },
  {
   "cell_type": "code",
   "execution_count": 57,
   "id": "cbad9ef5",
   "metadata": {},
   "outputs": [
    {
     "name": "stdout",
     "output_type": "stream",
     "text": [
      "9\n"
     ]
    }
   ],
   "source": [
    "n_clusters = len(set(cluster_labels)) - (1 if -1 in cluster_labels else 0)\n",
    "print(n_clusters)"
   ]
  },
  {
   "cell_type": "code",
   "execution_count": 58,
   "id": "e77cdca0",
   "metadata": {},
   "outputs": [
    {
     "name": "stdout",
     "output_type": "stream",
     "text": [
      "0         latitude  longitude\n",
      "0   10.913417  75.919...\n",
      "1         latitude  longitude\n",
      "48  11.051037  75.856...\n",
      "2         latitude  longitude\n",
      "71  11.129905  75.823...\n",
      "3         latitude  longitude\n",
      "77  11.154168  75.812578\n",
      "4         latitude  longitude\n",
      "79  11.169728  75.818...\n",
      "5         latitude  longitude\n",
      "85  11.189505  75.829...\n",
      "6          latitude  longitude\n",
      "100  11.220218  75.7...\n",
      "7          latitude  longitude\n",
      "105  11.263832   75....\n",
      "8          latitude  longitude\n",
      "106  11.281508  75.7...\n",
      "dtype: object\n"
     ]
    }
   ],
   "source": [
    "print(clusters)\n",
    "clusters.to_csv(\"C:\\\\Users\\\\knaren1x\\\\OneDrive - Intel Corporation\\\\Documents\\\\Dvr\\\\dataset\\\\KA51ME7196\\\\Trip_13-9thsept-08_30-10_00\\\\ttlatnlng.csv\")\n",
    "#print('Number of clusters: {}'.format(num_clusters))"
   ]
  },
  {
   "cell_type": "code",
   "execution_count": 59,
   "id": "f0db50cb",
   "metadata": {},
   "outputs": [
    {
     "data": {
      "text/plain": [
       "0.5350285838444636"
      ]
     },
     "execution_count": 59,
     "metadata": {},
     "output_type": "execute_result"
    }
   ],
   "source": []
  },
  {
   "cell_type": "code",
   "execution_count": null,
   "id": "104663c9",
   "metadata": {},
   "outputs": [],
   "source": [
    "#fig.ax = plt.subplots(figsize(6,6))\n",
    "#ax.scatter( coords,c=cluster_labels_)\n",
    "#fig.show()"
   ]
  },
  {
   "cell_type": "code",
   "execution_count": null,
   "id": "cd10a63f",
   "metadata": {},
   "outputs": [],
   "source": [
    "def get_centermost_point(cluster):\n",
    "    \n",
    "    centroid = (MultiPoint(cluster).centroid.x, MultiPoint(cluster).centroid.y)\n",
    "    #centermost_point = min(cluster, key=lambda point: great_circle(point, centroid).m)\n",
    "    #return tuple(centermost_point)\n",
    "    return centroid\n",
    "#centermost_points = clusters.map(get_centermost_point)"
   ]
  },
  {
   "cell_type": "code",
   "execution_count": null,
   "id": "6a9ce3c6",
   "metadata": {},
   "outputs": [],
   "source": [
    "rs = rep_points.apply(lambda row: df[(df['latitude']==row['latitude']) &(df['longitude']==row['longitude'])].iloc[0], axis=1)\n"
   ]
  },
  {
   "cell_type": "code",
   "execution_count": null,
   "id": "0513095d",
   "metadata": {},
   "outputs": [],
   "source": []
  },
  {
   "cell_type": "code",
   "execution_count": null,
   "id": "f5a83d6c",
   "metadata": {},
   "outputs": [],
   "source": []
  }
 ],
 "metadata": {
  "kernelspec": {
   "display_name": "Python [conda env:trsc]",
   "language": "python",
   "name": "conda-env-trsc-py"
  },
  "language_info": {
   "codemirror_mode": {
    "name": "ipython",
    "version": 3
   },
   "file_extension": ".py",
   "mimetype": "text/x-python",
   "name": "python",
   "nbconvert_exporter": "python",
   "pygments_lexer": "ipython3",
   "version": "3.9.7"
  }
 },
 "nbformat": 4,
 "nbformat_minor": 5
}
