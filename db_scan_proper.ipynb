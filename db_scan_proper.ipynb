{
 "cells": [
  {
   "cell_type": "code",
   "execution_count": 1,
   "id": "153f4ea9",
   "metadata": {},
   "outputs": [],
   "source": [
    "import warnings\n",
    "warnings.filterwarnings('ignore')\n",
    "\n",
    "import pandas as pd\n",
    "import numpy as np\n",
    "from plotnine import *\n",
    "\n",
    "from sklearn.preprocessing import StandardScaler\n",
    "from sklearn.neighbors import NearestNeighbors\n",
    "\n",
    "from sklearn.cluster import DBSCAN\n",
    "\n",
    "\n",
    "from sklearn.cluster import KMeans\n",
    "from sklearn.mixture import GaussianMixture\n",
    "\n",
    "from sklearn.metrics import silhouette_score\n",
    "\n",
    "%matplotlib inline"
   ]
  },
  {
   "cell_type": "code",
   "execution_count": 2,
   "id": "9cc621dd",
   "metadata": {},
   "outputs": [
    {
     "data": {
      "text/html": [
       "<div>\n",
       "<style scoped>\n",
       "    .dataframe tbody tr th:only-of-type {\n",
       "        vertical-align: middle;\n",
       "    }\n",
       "\n",
       "    .dataframe tbody tr th {\n",
       "        vertical-align: top;\n",
       "    }\n",
       "\n",
       "    .dataframe thead th {\n",
       "        text-align: right;\n",
       "    }\n",
       "</style>\n",
       "<table border=\"1\" class=\"dataframe\">\n",
       "  <thead>\n",
       "    <tr style=\"text-align: right;\">\n",
       "      <th></th>\n",
       "      <th>x</th>\n",
       "      <th>y</th>\n",
       "    </tr>\n",
       "  </thead>\n",
       "  <tbody>\n",
       "    <tr>\n",
       "      <th>0</th>\n",
       "      <td>10.913417</td>\n",
       "      <td>75.919083</td>\n",
       "    </tr>\n",
       "    <tr>\n",
       "      <th>1</th>\n",
       "      <td>10.916287</td>\n",
       "      <td>75.918402</td>\n",
       "    </tr>\n",
       "    <tr>\n",
       "      <th>2</th>\n",
       "      <td>10.917793</td>\n",
       "      <td>75.918148</td>\n",
       "    </tr>\n",
       "    <tr>\n",
       "      <th>3</th>\n",
       "      <td>10.920293</td>\n",
       "      <td>75.916692</td>\n",
       "    </tr>\n",
       "    <tr>\n",
       "      <th>4</th>\n",
       "      <td>10.920803</td>\n",
       "      <td>75.916032</td>\n",
       "    </tr>\n",
       "    <tr>\n",
       "      <th>...</th>\n",
       "      <td>...</td>\n",
       "      <td>...</td>\n",
       "    </tr>\n",
       "    <tr>\n",
       "      <th>102</th>\n",
       "      <td>11.230440</td>\n",
       "      <td>75.790052</td>\n",
       "    </tr>\n",
       "    <tr>\n",
       "      <th>103</th>\n",
       "      <td>11.232788</td>\n",
       "      <td>75.789367</td>\n",
       "    </tr>\n",
       "    <tr>\n",
       "      <th>104</th>\n",
       "      <td>11.234640</td>\n",
       "      <td>75.789085</td>\n",
       "    </tr>\n",
       "    <tr>\n",
       "      <th>105</th>\n",
       "      <td>11.263832</td>\n",
       "      <td>75.777360</td>\n",
       "    </tr>\n",
       "    <tr>\n",
       "      <th>106</th>\n",
       "      <td>11.281508</td>\n",
       "      <td>75.772237</td>\n",
       "    </tr>\n",
       "  </tbody>\n",
       "</table>\n",
       "<p>107 rows × 2 columns</p>\n",
       "</div>"
      ],
      "text/plain": [
       "             x          y\n",
       "0    10.913417  75.919083\n",
       "1    10.916287  75.918402\n",
       "2    10.917793  75.918148\n",
       "3    10.920293  75.916692\n",
       "4    10.920803  75.916032\n",
       "..         ...        ...\n",
       "102  11.230440  75.790052\n",
       "103  11.232788  75.789367\n",
       "104  11.234640  75.789085\n",
       "105  11.263832  75.777360\n",
       "106  11.281508  75.772237\n",
       "\n",
       "[107 rows x 2 columns]"
      ]
     },
     "metadata": {},
     "output_type": "display_data"
    },
    {
     "data": {
      "image/png": "[encoded data removed]",
      "text/plain": [
       "<Figure size 640x480 with 1 Axes>"
      ]
     },
     "metadata": {
      "needs_background": "light"
     },
     "output_type": "display_data"
    },
    {
     "data": {
      "text/plain": [
       "<ggplot: (110077455601)>"
      ]
     },
     "execution_count": 2,
     "metadata": {},
     "output_type": "execute_result"
    }
   ],
   "source": [
    "d1 = pd.read_csv(\"C:\\\\Users\\\\knaren1x\\\\OneDrive - Intel Corporation\\\\Documents\\\\Dvr\\\\dataset\\\\KA51ME7196\\\\Trip_13-9thsept-08_30-10_00\\\\latnlng.csv\")\n",
    "d2 = pd.read_csv(\"C:\\\\Users\\\\knaren1x\\\\OneDrive - Intel Corporation\\\\Documents\\\\Dvr\\\\dataset\\\\KA51ME7196\\\\Trip_13-9thsept-08_30-10_00\\\\latnlng.csv\")\n",
    "z = StandardScaler()\n",
    "d2[['x','y']]\n",
    "\n",
    "d1[[\"x\",\"y\"]] = z.fit_transform(d1)\n",
    "display(d2)\n",
    "\n",
    "ggplot(d2, aes(x = \"x\", y = \"y\")) + geom_point() + theme_minimal()\n"
   ]
  },
  {
   "cell_type": "code",
   "execution_count": 3,
   "id": "38d517f9",
   "metadata": {},
   "outputs": [],
   "source": [
    "#kms_per_radian = 6371.0088\n",
    "mts_per_radian = 6371.0088*1000\n",
    "#epsilon = 1 / kms_per_radian\n",
    "epsilon = 1000 / mts_per_radian\n",
    "db = DBSCAN(eps=epsilon, min_samples=4, algorithm='ball_tree', metric='haversine').fit(np.radians(d2))\n",
    "\n"
   ]
  },
  {
   "cell_type": "code",
   "execution_count": 4,
   "id": "c55a2cfd",
   "metadata": {},
   "outputs": [],
   "source": [
    "labsList = [\"Noise\"]\n",
    "labsList = labsList  + [\"Cluster \" + str(i) for i in range(1,len(set(db.labels_)))]\n"
   ]
  },
  {
   "cell_type": "code",
   "execution_count": 5,
   "id": "a9efcddc",
   "metadata": {},
   "outputs": [],
   "source": [
    "d2[\"assignments\"] = db.labels_"
   ]
  },
  {
   "cell_type": "code",
   "execution_count": 6,
   "id": "073ed6ff",
   "metadata": {},
   "outputs": [
    {
     "data": {
      "image/png": "[encoded data removed]",
      "text/plain": [
       "<Figure size 640x480 with 1 Axes>"
      ]
     },
     "metadata": {
      "needs_background": "light"
     },
     "output_type": "display_data"
    },
    {
     "data": {
      "text/plain": [
       "<ggplot: (110070660395)>"
      ]
     },
     "execution_count": 6,
     "metadata": {},
     "output_type": "execute_result"
    }
   ],
   "source": [
    "(ggplot(d2, aes(x = \"x\", y = \"y\", color = \"factor(assignments)\")) +\n",
    " geom_point() +\n",
    " theme_minimal() +\n",
    " scale_color_discrete(name = \"Cluster Assignment\",\n",
    "                      labels = labsList) +\n",
    "theme(panel_grid_major = element_blank()) +\n",
    "labs(title = \"DBSCAN with eps = 1000, min_samples = 4\"))"
   ]
  },
  {
   "cell_type": "code",
   "execution_count": 7,
   "id": "c3dd1e73",
   "metadata": {},
   "outputs": [
    {
     "data": {
      "text/plain": [
       "0.6260633870510917"
      ]
     },
     "execution_count": 7,
     "metadata": {},
     "output_type": "execute_result"
    }
   ],
   "source": [
    "d1_clustered = d2.loc[(d2.assignments >= 0)]\n",
    "\n",
    "silhouette_score(d1_clustered[[\"x\",\"y\"]], d1_clustered[\"assignments\"])"
   ]
  },
  {
   "cell_type": "code",
   "execution_count": 8,
   "id": "8343d391",
   "metadata": {},
   "outputs": [
    {
     "data": {
      "text/plain": [
       "0.5597366676897619"
      ]
     },
     "execution_count": 8,
     "metadata": {},
     "output_type": "execute_result"
    }
   ],
   "source": [
    "silhouette_score(d2[[\"x\",\"y\"]], d2[\"assignments\"])"
   ]
  },
  {
   "cell_type": "code",
   "execution_count": null,
   "id": "b70eb03c",
   "metadata": {},
   "outputs": [],
   "source": []
  },
  {
   "cell_type": "code",
   "execution_count": null,
   "id": "f36bbdf8",
   "metadata": {},
   "outputs": [],
   "source": []
  }
 ],
 "metadata": {
  "kernelspec": {
   "display_name": "Python [conda env:trsc]",
   "language": "python",
   "name": "conda-env-trsc-py"
  },
  "language_info": {
   "codemirror_mode": {
    "name": "ipython",
    "version": 3
   },
   "file_extension": ".py",
   "mimetype": "text/x-python",
   "name": "python",
   "nbconvert_exporter": "python",
   "pygments_lexer": "ipython3",
   "version": "3.9.7"
  }
 },
 "nbformat": 4,
 "nbformat_minor": 5
}
